{
 "metadata": {
  "name": ""
 },
 "nbformat": 3,
 "nbformat_minor": 0,
 "worksheets": [
  {
   "cells": [
    {
     "cell_type": "markdown",
     "metadata": {},
     "source": [
      "##Team member responsible for this notebook:\n",
      "\n",
      "* **Rie Kawauchi**: Visualized the data and analyzed how to present the best fund-raising duration and logit model to predict the probability of reaching the fund-raising goals\n"
     ]
    },
    {
     "cell_type": "code",
     "collapsed": false,
     "input": [
      "%load_ext rmagic"
     ],
     "language": "python",
     "metadata": {},
     "outputs": []
    },
    {
     "cell_type": "markdown",
     "metadata": {},
     "source": [
      "In this notebook, you'll perform the actual analysis of the data stored in the directory\n",
      "\n",
      "    ./data/cleaned\n",
      "\n",
      "If the data is not ready yet (e.g. the other members of the team in charge of cleaning the data are not done yet), you may want to simulate cleaned data in the form you want them to be in order to perform the analysis. This may also help you data cleaning team to come up with the rigth data frame. \n",
      "If you choose to do so, store your simulated data into the directory\n",
      "\n",
      "    ./data/simulated\n",
      "    \n",
      "Having performed analysis of simulated data may help you with the analysis of the actual data, since you will be able to notice deviations between the real and simulated data, which may be worth explaining and investigating further.\n",
      "\n",
      "The graphics your going to produce as a result of your analysis should be store in the directory:\n",
      "\n",
      "\n",
      "    ./visualization\n",
      "\n"
     ]
    }
   ],
   "metadata": {}
  }
 ]
}