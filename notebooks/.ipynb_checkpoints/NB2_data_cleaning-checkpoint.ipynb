{
 "metadata": {
  "name": ""
 },
 "nbformat": 3,
 "nbformat_minor": 0,
 "worksheets": [
  {
   "cells": [
    {
     "cell_type": "markdown",
     "metadata": {},
     "source": [
      "**SUMARRY:** Over 10,000 fundraising projects were collected from Indiegogo.com for duration and fund raising sucess analysis. To ensure that the analysis are done properly, we diagnosed the data, cleaned the data so that proper functions can run, and removed anomalities and changed the class/mode of data. The data cleaning strengthens the credibility of our analysis conclusions, yet careful cleaning judgement is also critical as we do not want to remove the data thinking they were anomalities even though they actually are telling the true data structures."
     ]
    },
    {
     "cell_type": "heading",
     "level": 1,
     "metadata": {},
     "source": [
      "I. Diagnosis - Data Check"
     ]
    },
    {
     "cell_type": "markdown",
     "metadata": {},
     "source": [
      "The data we downloaded from the website *\"indiegogo.com\"* was faily clean enought that the data cleaning was relatively simple. We were able to save the downloaded data into <code>csv</code> format which was easily uploaded to R."
     ]
    },
    {
     "cell_type": "code",
     "collapsed": false,
     "input": [
      "%load_ext rmagic"
     ],
     "language": "python",
     "metadata": {},
     "outputs": [],
     "prompt_number": 2
    },
    {
     "cell_type": "markdown",
     "metadata": {},
     "source": [
      "We first wanted to take a quick glance at the data:"
     ]
    },
    {
     "cell_type": "code",
     "collapsed": false,
     "input": [
      "%%R\n",
      "#source('./script/indiegogo.R')\n",
      "data = read.csv(\"./data/raw/indiegogo.csv\")\n",
      "\n",
      "# number of projects downloaded\n",
      "print(dim(data)[1])\n",
      "\n",
      "# check class of data\n",
      "print(class(data))\n",
      "\n",
      "# check overall data\n",
      "print(head(data))\n",
      "mode.check = apply(data,2,mode)\n",
      "print(mode.check)"
     ],
     "language": "python",
     "metadata": {},
     "outputs": [
      {
       "metadata": {},
       "output_type": "display_data",
       "text": [
        "[1] 10764\n",
        "[1] \"data.frame\"\n",
        "                   location  category duration amount_raised amount_goal\n",
        "1       Brisbane, Australia    Health       60          0AUD     $2,500 \n",
        "2       Brisbane, Australia    Health       50          0AUD     $2,500 \n",
        "3        Marsden, Australia Education        7          0AUD     $2,000 \n",
        "4      Traralgon, Australia Community       60          0AUD     $2,000 \n",
        "5 Red Deer, Alberta, Canada     Music       60          0CAD    $21,000 \n",
        "6  Montreal, Quebec, Canada    Health       52          0CAD     $1,000 \n",
        "  percent\n",
        "1       0\n",
        "2       0\n",
        "3       0\n",
        "4       0\n",
        "5       0\n",
        "6       0\n",
        "     location      category      duration amount_raised   amount_goal \n",
        "  \"character\"   \"character\"   \"character\"   \"character\"   \"character\" \n",
        "      percent \n",
        "  \"character\" \n"
       ]
      }
     ],
     "prompt_number": 22
    },
    {
     "cell_type": "heading",
     "level": 1,
     "metadata": {},
     "source": [
      "II. Data Cleaning"
     ]
    },
    {
     "cell_type": "heading",
     "level": 2,
     "metadata": {},
     "source": [
      "1. Filter Currency:"
     ]
    },
    {
     "cell_type": "markdown",
     "metadata": {},
     "source": [
      "We are interested in analysing the USD projects and we filtered in the projects in USD. The currency was indicated in the last three digits of amount_raised column containing 'USD'. The number of projects went down from 10,764 to 9,189."
     ]
    },
    {
     "cell_type": "code",
     "collapsed": false,
     "input": [
      "%%R\n",
      "require(stringr)\n",
      "data = subset(data, str_sub(data[,4],-3,-1) == 'USD')\n",
      "\n",
      "# new number of projects filtered\n",
      "print(dim(data)[1])\n",
      "\n",
      "#check to see if the data only contain USD projects\n",
      "print(head(data))\n",
      "print(tail(data))\n"
     ],
     "language": "python",
     "metadata": {},
     "outputs": [
      {
       "metadata": {},
       "output_type": "display_data",
       "text": [
        "[1] 9189\n",
        "                                 location    category duration amount_raised\n",
        "92                     Bucharest, Romania     Animals       60          0USD\n",
        "93                    Kamalasai, Thailand Video / Web       60          0USD\n",
        "94           Sebago, Maine, United States     Writing       45          0USD\n",
        "95 Los Angeles, California, United States        Film       35          0USD\n",
        "96     St. Paul, Minnesota, United States Environment       60          0USD\n",
        "97           Cabanatuan City, Philippines        Food       60          0USD\n",
        "   amount_goal percent\n",
        "92    $32,000        0\n",
        "93    $35,000        0\n",
        "94     $6,000        0\n",
        "95     $3,500        0\n",
        "96    $60,000        0\n",
        "97     $2,700        0\n",
        "                                    location   category duration amount_raised\n",
        "10758               Toronto, Ontario, Canada Technology       34      42549USD\n",
        "10759 New York City, New York, United States  Community       16     100051USD\n",
        "10761        Greece, New York, United States  Community       30     703168USD\n",
        "10762   San Diego, California, United States    Fashion       20      71409USD\n",
        "10763  Sacramento, California, United States Technology       30     103527USD\n",
        "10764                         Chennai, India Technology       15     104481USD\n",
        "      amount_goal percent\n",
        "10758       $500     8510\n",
        "10759     $1,000    10005\n",
        "10761     $5,000    14063\n",
        "10762       $500    14282\n",
        "10763       $500    20705\n",
        "10764       $500    20896\n"
       ]
      }
     ],
     "prompt_number": 23
    },
    {
     "cell_type": "heading",
     "level": 2,
     "metadata": {},
     "source": [
      "2. Filter Anomalities:"
     ]
    },
    {
     "cell_type": "markdown",
     "metadata": {},
     "source": [
      "Our first goal is to give the best fund-raising campaign duration in days for the project owner to reach the fund-raising goal. We quickly checked the maximum and minimum duration days and found out that there were negative durations stored:"
     ]
    },
    {
     "cell_type": "code",
     "collapsed": false,
     "input": [
      "%%R\n",
      "\n",
      "print(max(data[,3]))\n",
      "print(min(data[,3]))"
     ],
     "language": "python",
     "metadata": {},
     "outputs": [
      {
       "metadata": {},
       "output_type": "display_data",
       "text": [
        "[1] 215\n",
        "[1] -353\n"
       ]
      }
     ],
     "prompt_number": 26
    },
    {
     "cell_type": "markdown",
     "metadata": {},
     "source": [
      "The function was created to remove the negative duration if any. This cleaning further reduced the number of projects from 9,189 to 8,584."
     ]
    },
    {
     "cell_type": "code",
     "collapsed": false,
     "input": [
      "%%R\n",
      "\n",
      "durationClean = function(data){\n",
      "  du = data[,3]\n",
      "  duCheck = nrow(data[as.numeric(du) < 0 ,])\n",
      "  if(duCheck > 0){\n",
      "    for(i in 1:duCheck){\n",
      "      count = i\n",
      "      badRow = which.min(data[,3])\n",
      "      data = data[-badRow,,drop=FALSE]\n",
      "    }\n",
      "  }\n",
      "  return(data)\n",
      "}\n",
      "\n",
      "data = durationClean(data)\n",
      "\n",
      "print(min(data[,3]))\n",
      "print(dim(data)[1])"
     ],
     "language": "python",
     "metadata": {},
     "outputs": [
      {
       "metadata": {},
       "output_type": "display_data",
       "text": [
        "[1] 1\n",
        "[1] 8584\n"
       ]
      }
     ],
     "prompt_number": 30
    },
    {
     "cell_type": "markdown",
     "metadata": {},
     "source": [
      "We confirmed that the data was stored as dataframe. We decided to change the mode of each column as follows:\n",
      "   \n",
      "   * **location**: ignore for this analysis\n",
      "   * **category**:     <code>character</code> to <code>factor</code>\n",
      "   * **duration**:     <code>character</code> to <code>numeric</code>\n",
      "   * **amount_raised**:<code>character</code> to <code>numeric</code>\n",
      "   * **amount_goal**:  <code>character</code> to <code>numeric</code>\n",
      "   * **percent**:      <code>character</code> to <code>numeric</code>"
     ]
    },
    {
     "cell_type": "code",
     "collapsed": false,
     "input": [
      "%%R\n",
      "\n",
      "# remove unwanted characters to be read as numeric\n",
      "data[,4] = sub('USD$', '', data[,4])\n",
      "data[,5] = sub('\\\\$', '', data[,5])\n",
      "data[,5] = sub('\\\\,', '', data[,5]) # do this twice\n",
      "data[,5] = sub('\\\\,', '', data[,5])\n",
      "data[,6] = sub('\\\\,', '', data[,6])\n",
      "\n",
      "print(tail(data))\n"
     ],
     "language": "python",
     "metadata": {},
     "outputs": [
      {
       "metadata": {},
       "output_type": "display_data",
       "text": [
        "                                   location   category duration amount_raised\n",
        "8579               Toronto, Ontario, Canada Technology       34         42549\n",
        "8580 New York City, New York, United States  Community       16        100051\n",
        "8581        Greece, New York, United States  Community       30        703168\n",
        "8582   San Diego, California, United States    Fashion       20         71409\n",
        "8583  Sacramento, California, United States Technology       30        103527\n",
        "8584                         Chennai, India Technology       15        104481\n",
        "     amount_goal percent\n",
        "8579         500    8510\n",
        "8580        1000   10005\n",
        "8581        5000   14063\n",
        "8582         500   14282\n",
        "8583         500   20705\n",
        "8584         500   20896\n"
       ]
      }
     ],
     "prompt_number": 36
    },
    {
     "cell_type": "heading",
     "level": 2,
     "metadata": {},
     "source": [
      "3. Change Mode and Save:"
     ]
    },
    {
     "cell_type": "markdown",
     "metadata": {},
     "source": [
      "Now the data is clean and to be saved for the future use."
     ]
    },
    {
     "cell_type": "code",
     "collapsed": false,
     "input": [
      "%%R\n",
      "\n",
      "# make a new data-frame with desired mode\n",
      "data = data.frame(\"location\"=data[,1],\"category\"=data[,2],\"duration\"=data[,3],\"amount_raised\"=as.numeric(data[,4]),\n",
      "                  \"amount_goal\"=as.numeric(data[,5]),\"percent\"=as.numeric(data[,6]))\n",
      "\n",
      "# save the cleaned data\n",
      "save(data,file='./data/cleaned/indiegogo.rda')"
     ],
     "language": "python",
     "metadata": {},
     "outputs": [],
     "prompt_number": 38
    },
    {
     "cell_type": "markdown",
     "metadata": {},
     "source": [
      "##Team member responsible for this notebook:\n",
      "\n",
      "* **Rie Kawauchi**: analyzed the general data structure, changed the data mode/class from characters to factors/numerics, and removed unwanted characters and corrupted data\n"
     ]
    }
   ],
   "metadata": {}
  }
 ]
}