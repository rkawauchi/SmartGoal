{
 "metadata": {
  "name": ""
 },
 "nbformat": 3,
 "nbformat_minor": 0,
 "worksheets": [
  {
   "cells": [
    {
     "cell_type": "heading",
     "level": 2,
     "metadata": {},
     "source": [
      "SmartGoal = Reach Your Goal"
     ]
    },
    {
     "cell_type": "markdown",
     "metadata": {},
     "source": [
      "**Need funds? SmartGoal helps your fundraising campaign reach the goal.\n",
      "<br />\n",
      "Ride the crowdfunding wave, and make your innovative ideas real.**"
     ]
    },
    {
     "cell_type": "heading",
     "level": 1,
     "metadata": {},
     "source": [
      "Motivation:"
     ]
    },
    {
     "cell_type": "markdown",
     "metadata": {},
     "source": [
      "Are you **raising funds** for your innovative ideas to develop new products?\n",
      "\n",
      "Are you **raising funds** for your daughter's soccer team's camping trip?\n",
      "\n",
      "Inspired by the crowdfunding website, Indiegogo.com, we are interested in finding the best duration of the fundraising campaings and predicting how likey a potential fundraising campaign reach its goal amount.\n",
      "\n",
      "**The motivation:** UC Berkeley is fortunate to have many successful entrepreneurs and innovative ideas, and the data analysis of how innovative projects can maximize their fundraising goals can contribute to the Berkeley academic society, outside of the class project.\n",
      "\n",
      "Especially in this crowdfunding era, this analysis aims to excelerate the contribution of innovative ideas to the world.\n"
     ]
    },
    {
     "cell_type": "heading",
     "level": 1,
     "metadata": {},
     "source": [
      "Action Plan:"
     ]
    },
    {
     "cell_type": "markdown",
     "metadata": {},
     "source": [
      "* **Gather Data**:Extract data from indiegogo.com website (Python)\n",
      "* **Clean Data**: Go through the data and remove anomalities, and adjust/convert the original data into appropriate formats (R)\n",
      "* **Analyze Data**: Analyze and visualize the trend of data, design the **best duration** and **success probability** models (R)"
     ]
    },
    {
     "cell_type": "heading",
     "level": 1,
     "metadata": {},
     "source": [
      "Results:"
     ]
    },
    {
     "cell_type": "heading",
     "level": 2,
     "metadata": {},
     "source": [
      "1. The Best Duration Model"
     ]
    },
    {
     "cell_type": "markdown",
     "metadata": {},
     "source": [
      "The user pick the category of the industry, and the target fundraising amount index depending on the actual amount, the model advices the best and most picked duration. The duration is important as the fundraisers are charged for the length of the fundrasing durations."
     ]
    },
    {
     "cell_type": "code",
     "collapsed": false,
     "input": [
      "# general function for given industry and target amount\n",
      "\n",
      "# category to choose:\n",
      "# [1] \"Film\"           \"Community\"      \"Music\"          \"Education\"     \n",
      "# [5] \"Health\"         \"Small Business\" \"Technology\"     \"Theater\"       \n",
      "# [9] \"Art\"            \"Sports\"         \"Writing\"        \"Animals\"       \n",
      "# [13] \"Video / Web\"    \"Food\"           \"Environment\"    \"Religion\"      \n",
      "# [17] \"Dance\"          \"Gaming\"         \"Fashion\"        \"Photography\"   \n",
      "# [21] \"Design\"         \"Politics\"       \"Comic\"          \"Transmedia\"\n",
      "\n",
      "# target fund-raising amount to choose (column number):\n",
      "#      [,1]  [,2]  [,3]  [,4]  [,5]  [,6]  [,7]   [,8]\n",
      "# [1,]    0  5000 10000 20000 30000 40000 50000  100000\n",
      "# [2,] 5000 10000 20000 30000 40000 50000 100000 400000\n"
     ],
     "language": "python",
     "metadata": {},
     "outputs": [],
     "prompt_number": 7
    },
    {
     "cell_type": "markdown",
     "metadata": {},
     "source": [
      "The **bestDuration()** function was developed:"
     ]
    },
    {
     "cell_type": "code",
     "collapsed": false,
     "input": [
      "bestDuration = function(data, category, index){\n",
      "  amountMat = matrix(0,2,8)\n",
      "  amountMat[1,] = c(0,5000,10000,20000,30000,40000,50000,100000)\n",
      "  amountMat[2,] = c(5000,10000,20000,30000,40000,50000,100000,400000)\n",
      "  cat = data[,2]\n",
      "  filterCat = data[cat == category,]\n",
      "  goal = filterCat[,5]\n",
      "  filterGoal = filterCat[goal>amountMat[1,index] & goal<=amountMat[2,index],]\n",
      "  perc = filterGoal[,6]\n",
      "  filterDone = filterGoal[perc >= 100,]\n",
      "  # get duration that majority of projects pick\n",
      "  duration = filterDone[,3]\n",
      "  durationMat = table(duration)\n",
      "  max.duration = names(durationMat[which.max(durationMat)])\n",
      "  u = format(round(mean(duration),0), nsmall = 0)\n",
      "  # plot the distribution\n",
      "  par(mfrow=c(1,2))\n",
      "  hist(duration, main=\"No. of projects for given durations\", col=\"deepskyblue1\", border=FALSE, breaks=20)\n",
      "  abline(v=mean(duration),col=\"red\", lwd = 2)\n",
      "  abline(v=max.duration,col=\"darkorange1\", lwd = 2)\n",
      "  msg1 = paste(\"mean: \",u)\n",
      "  msg2 = paste(\"most: \",max.duration)\n",
      "  legend(\"topright\",c(msg1,msg2), text.col = c(\"red\",\"darkorange1\"), bty='n', cex=1)\n",
      "  den = density(duration)\n",
      "  plot(den, main=\"Density of frequency\",xlab = \"duration\", col=\"limegreen\")\n",
      "  polygon(den, col=\"limegreen\", border=FALSE)\n",
      "  abline(v=mean(duration),col=\"red\", lwd = 2)\n",
      "  abline(v=max.duration,col=\"darkorange1\", lwd = 2)\n",
      "  legend(\"topright\",c(msg1,msg2), text.col = c(\"red\",\"darkorange1\"), bty='n', cex=1)\n",
      "  ans = cbind(\"Best Duration\"=u, \"Most Picked Duration\"=max.duration)\n",
      "  return(ans)\n",
      "}"
     ],
     "language": "python",
     "metadata": {},
     "outputs": []
    },
    {
     "cell_type": "markdown",
     "metadata": {},
     "source": [
      "When the model is run as below, the returns the **Best Duration**, and **Most Picked Duration**, then displays the plots of frequencies from the original data."
     ]
    },
    {
     "cell_type": "code",
     "collapsed": false,
     "input": [
      "bestDuration(data,\"Film\",3)\n",
      "\n",
      "     Best Duration Most Picked Duration\n",
      "[1,] \"48\"          \"30\"  "
     ],
     "language": "python",
     "metadata": {},
     "outputs": []
    },
    {
     "cell_type": "code",
     "collapsed": false,
     "input": [
      "from IPython.display import Image\n",
      "Image(filename='./picture/Rplot.png')"
     ],
     "language": "python",
     "metadata": {},
     "outputs": [
      {
       "metadata": {},
       "output_type": "pyout",
       "png": "[encoded data removed]",
       "prompt_number": 8,
       "text": [
        "<IPython.core.display.Image at 0xb74c17ac>"
       ]
      }
     ],
     "prompt_number": 8
    },
    {
     "cell_type": "heading",
     "level": 2,
     "metadata": {},
     "source": [
      "2. The Success Probability Model"
     ]
    },
    {
     "cell_type": "markdown",
     "metadata": {},
     "source": [
      "The **Logit Regression** was run and estimated the beta of the each design matrix variables. Using this beta, the prediction model gives the probability of reaching the target amount, given the industry, target amount and the duration of the fundrasing campaign."
     ]
    },
    {
     "cell_type": "code",
     "collapsed": false,
     "input": [
      "# Logit Regression\n",
      "dataLogit = cbind(Y,X)\n",
      "\n",
      "modelLogit = glm(Y ~ ., data = dataLogit, family = \"binomial\")\n",
      "beta = summary(modelLogit)$coef[,1]"
     ],
     "language": "python",
     "metadata": {},
     "outputs": []
    },
    {
     "cell_type": "code",
     "collapsed": false,
     "input": [
      "# general function for given industry, target amount, and the duration\n",
      "\n",
      "# category to choose: (Film = 1 ~ Comic = 23)\n",
      "# [1] \"Film\"           \"Community\"      \"Music\"          \"Education\"     \n",
      "# [5] \"Health\"         \"Small Business\" \"Technology\"     \"Theater\"       \n",
      "# [9] \"Art\"            \"Sports\"         \"Writing\"        \"Animals\"       \n",
      "# [13] \"Video / Web\"    \"Food\"           \"Environment\"    \"Religion\"      \n",
      "# [17] \"Dance\"          \"Gaming\"         \"Fashion\"        \"Photography\"   \n",
      "# [21] \"Design\"         \"Politics\"       \"Comic\"\n",
      "\n",
      "# target fund-raising amount to choose (column number):\n",
      "#      [,1]  [,2]  [,3]  [,4]  [,5]  [,6]  [,7]   [,8]\n",
      "# [1,]    0  5000 10000 20000 30000 40000 50000  100000\n",
      "# [2,] 5000 10000 20000 30000 40000 50000 100000 400000\n",
      "\n",
      "# fundraising campaign duration to choose (column number):\n",
      "#       [,1] [,2] [,3] [,4] [,5]\n",
      "# [1,]  <30   30   40   45   60 "
     ],
     "language": "python",
     "metadata": {},
     "outputs": []
    },
    {
     "cell_type": "markdown",
     "metadata": {},
     "source": [
      "The **predict()** function was developted, and when run, it returns the probability of success:"
     ]
    },
    {
     "cell_type": "code",
     "collapsed": false,
     "input": [
      "predict = function(cat, target, duration){\n",
      "  predicX = c(1,rep(0,36))\n",
      "  catName = catName # 1:24\n",
      "  beta = beta\n",
      "  # assign industry category\n",
      "  catN = match(cat,catName) +1\n",
      "  predicX[catN]=1\n",
      "  # assign target amount\n",
      "  targetN = target + 24\n",
      "  predicX[targetN] = 1\n",
      "  # assign duration\n",
      "  durationN = duration + 32\n",
      "  predicX[durationN] = 1\n",
      "  predicY = predicX %*% beta\n",
      "  successP = plogis(predicY)\n",
      "  return(successP)\n",
      "}"
     ],
     "language": "python",
     "metadata": {},
     "outputs": []
    },
    {
     "cell_type": "code",
     "collapsed": false,
     "input": [
      "%%R\n",
      "# run the model with necessary information as listed above\n",
      "predict('Technology',1,2)\n",
      "\n",
      "# the test models gives the probability of success:\n",
      "\n",
      "          [,1]\n",
      "[1,] 0.6478645"
     ],
     "language": "python",
     "metadata": {},
     "outputs": []
    },
    {
     "cell_type": "heading",
     "level": 1,
     "metadata": {},
     "source": [
      "Conclusion:"
     ]
    },
    {
     "cell_type": "markdown",
     "metadata": {},
     "source": [
      "We were able to extract the data from Indiegogo.com even though the website changed the data storing formats couple times. We had an excellent amount of projects (> 10,000) for the credibility of the analysis and thus the model accuracy. \n",
      "\n",
      "The best duration model and the success probability model are successfully developed and return the desired results. These models are to help potential fundraisers and motivate them to go for the crownfunding and help them reach the goal funding amount."
     ]
    },
    {
     "cell_type": "heading",
     "level": 1,
     "metadata": {},
     "source": [
      "Potential Extention:"
     ]
    },
    {
     "cell_type": "markdown",
     "metadata": {},
     "source": [
      "The analysis and models are still in R language. The potential extention is to integrate the user interface where users can input the basic fundrasing information and the interface returns the best duration to go for. Then the probability model returns the likelyhood of success given the information with the best duration that was calculated at the prior stage."
     ]
    },
    {
     "cell_type": "markdown",
     "metadata": {},
     "source": [
      "##Team members responsible for this notebook:\n",
      "\n",
      "* **Rie Kawauchi**: summarized the main purpose and the results of the project\n",
      "* ** "
     ]
    }
   ],
   "metadata": {}
  }
 ]
}